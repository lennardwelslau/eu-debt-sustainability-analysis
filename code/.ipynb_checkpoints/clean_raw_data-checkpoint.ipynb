{
 "cells": [
  {
   "cell_type": "code",
   "execution_count": 158,
   "id": "68129370-ed7c-44e7-8149-d1eef9846091",
   "metadata": {},
   "outputs": [],
   "source": [
    "import pandas as pd\n",
    "import numpy as np\n",
    "import pycountry\n",
    "from datetime import datetime"
   ]
  },
  {
   "cell_type": "markdown",
   "id": "da48d9bb-7965-43de-b3f7-32ae0a96d503",
   "metadata": {},
   "source": [
    "Read and clean RawData"
   ]
  },
  {
   "cell_type": "code",
   "execution_count": 159,
   "id": "73cd5d34-e6a8-4daf-ae05-72f5466f345f",
   "metadata": {},
   "outputs": [],
   "source": [
    "def get_iso3(country_name):\n",
    "    country_name = country_name.replace(\n",
    "        'St. ', 'Saint ').replace(\n",
    "        'The', ' ').replace(\n",
    "        ',', '').replace(\n",
    "        '(', '').replace(\n",
    "        ')', '').replace(\n",
    "        \"People's\", '').replace(\n",
    "        'Republic', 'Rep').replace(\n",
    "        'Rep', '').replace(\n",
    "        'of', '').replace('.', '').replace(\n",
    "        'until 1990 former territory  the FRG', '').replace(\n",
    "        'under United Nations Security Council Resolution 1244/99','').replace(\n",
    "        'PR: Hong Kong', '').replace(\n",
    "        'Federal Dem', '').replace(\n",
    "        'Türkiye', 'Turkey').replace(\n",
    "        'Lesotho Kingdom', 'Lesotho').replace(\n",
    "        'Eswathini Kingdom', 'SWZ').replace(\n",
    "        'Eswatini Kingdom', 'SWZ').replace(\n",
    "        'Bahrain Kingdom', 'Bahrain').replace(\n",
    "        'Tanzania United', 'Tanzania').replace(\n",
    "        'Bahrain United', 'Bahrain').replace(\n",
    "        'Egypt Arab', 'Egypt').replace(\n",
    "        'Mauritania Islamic', 'Mauritania').replace(\n",
    "        'Lao  Dem', 'LAO').replace(\n",
    "        'Bolivariana de', '').replace(\n",
    "        'Netherlands Antilles', 'ANT').strip()\n",
    " \n",
    "    if country_name != \"\":\n",
    "        try:\n",
    "            country = pycountry.countries.search_fuzzy(country_name)[0]\n",
    "            return country.alpha_3\n",
    "        except LookupError:\n",
    "            print(f'Could not find iso3 for {country_name}')\n",
    "            return country_name\n",
    "    return country_name"
   ]
  },
  {
   "cell_type": "code",
   "execution_count": 160,
   "id": "f34bcd61-5571-4cc3-8fbc-a60195e555b4",
   "metadata": {},
   "outputs": [],
   "source": [
    "# Path to the Excel file\n",
    "excel_file = '../data/RawData/EC_DSA_stochastic_data.xlsx'\n",
    "\n",
    "# Read the Excel file\n",
    "xls = pd.ExcelFile(excel_file)\n",
    "\n",
    "# Get the sheet names\n",
    "sheet_names = xls.sheet_names\n",
    "\n",
    "# Create a dictionary to store DataFrames\n",
    "ec_dfs = {}\n",
    "\n",
    "# Loop through each sheet and save it as a separate DataFrame\n",
    "for sheet_name in sheet_names[1:]:\n",
    "    # Replace spaces with underscores in the sheet name\n",
    "    formatted_sheet_name = sheet_name.replace(' ', '_').replace('(', '').replace(')', '').replace('-', '_').lower()\n",
    "    \n",
    "    # Read the sheet as a DataFrame\n",
    "    df = pd.read_excel(excel_file, sheet_name=sheet_name)\n",
    "    \n",
    "    # Clean country names\n",
    "    df = df.loc[~df['Country'].str.startswith('Euro')]\n",
    "    df['Country'] = df['Country'].apply(get_iso3)\n",
    "    \n",
    "    # Set date format\n",
    "    df = df.rename(columns = {'Country':'date'}).set_index('date').T\n",
    "    df.index = pd.to_datetime(df.index)\n",
    "    df = df.loc[df.index >= pd.to_datetime('1970')]\n",
    "    df.index = df.index.to_period('Q').strftime('%YQ%q')\n",
    "    \n",
    "    # uniform nan\n",
    "    df = df.replace('...', np.nan).replace(':', np.nan)\n",
    "    \n",
    "    # Store the DataFrame in the dictionary with the formatted sheet name\n",
    "    ec_dfs[formatted_sheet_name] = df\n",
    "\n",
    "xls.close()"
   ]
  },
  {
   "cell_type": "code",
   "execution_count": 161,
   "id": "4cd3fa6f-2204-4fd3-a299-0f6b7eabc691",
   "metadata": {},
   "outputs": [],
   "source": [
    "# Create dictionary to store the first non-null entry for each country\n",
    "first_date_dict = {var : {} for var in list(ec_dfs.keys())}\n",
    "\n",
    "# Loop through the dictionary and extract the first non-null entry for each country\n",
    "for variable, df in ec_dfs.items():\n",
    "    # Iterate over each country column\n",
    "    for country in df.columns:\n",
    "        # Find the first non-null entry for each country\n",
    "        first_date_dict[variable][country] = df[country].first_valid_index()"
   ]
  },
  {
   "cell_type": "code",
   "execution_count": 162,
   "id": "02020d72-aed9-4499-9890-68b51b25ec2d",
   "metadata": {},
   "outputs": [],
   "source": [
    "pd.DataFrame(first_date_dict).to_excel('../output/first_dates.xlsx')"
   ]
  },
  {
   "cell_type": "code",
   "execution_count": 166,
   "id": "fb12787f-2498-4684-becc-28bf0b1cc606",
   "metadata": {},
   "outputs": [],
   "source": [
    "# Create a new Excel writer object\n",
    "writer = pd.ExcelWriter('../data/InputData/EC_DSA_clean.xlsx')\n",
    "\n",
    "# Iterate over the dictionary items\n",
    "for key, df in ec_dfs.items():\n",
    "    # Write each DataFrame to a new sheet in the Excel workbook\n",
    "    df.to_excel(writer, sheet_name=key, index=True)\n",
    "\n",
    "# Save and close the workbook\n",
    "writer.close()"
   ]
  },
  {
   "cell_type": "code",
   "execution_count": null,
   "id": "88c93daf-1db0-4e7f-a569-a050a3db8c91",
   "metadata": {},
   "outputs": [],
   "source": []
  }
 ],
 "metadata": {
  "kernelspec": {
   "display_name": "Python 3 (ipykernel)",
   "language": "python",
   "name": "python3"
  },
  "language_info": {
   "codemirror_mode": {
    "name": "ipython",
    "version": 3
   },
   "file_extension": ".py",
   "mimetype": "text/x-python",
   "name": "python",
   "nbconvert_exporter": "python",
   "pygments_lexer": "ipython3",
   "version": "3.9.16"
  }
 },
 "nbformat": 4,
 "nbformat_minor": 5
}
