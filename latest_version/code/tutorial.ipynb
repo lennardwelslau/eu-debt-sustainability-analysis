{
 "cells": [
  {
   "cell_type": "markdown",
   "metadata": {},
   "source": [
    "# How to replicate the European Commission DSA\n",
    "\n",
    "This notebook features an tutorial for the stochastic DSA model replication introduced in \"A Quantitative Evaluation of the European Commission´s Fiscal Governance Proposal\" by Zsolt Darvas, Lennard Welslau, and Jeromin Zettelmeyer (2023). For details on the methodology see the [README](https://github.com/lennardwelslau/eu-debt-sustainability-analysis/blob/main/README.md) file and Annex A3 of the [European Commission's Debt Sustainability Monitor 2023](https://economy-finance.ec.europa.eu/publications/debt-sustainability-monitor-2023_en).\n",
    "\n",
    "For comments and suggestions please contact lennard.welslau[at]gmail[dot]com.\\\n",
    "Last update: 01 June 2024"
   ]
  },
  {
   "cell_type": "code",
   "execution_count": 25,
   "metadata": {},
   "outputs": [
    {
     "name": "stdout",
     "output_type": "stream",
     "text": [
      "The autoreload extension is already loaded. To reload it, use:\n",
      "  %reload_ext autoreload\n"
     ]
    }
   ],
   "source": [
    "# Import libraries and modules\n",
    "import numpy as np\n",
    "import pandas as pd\n",
    "pd.options.display.float_format = \"{:,.3f}\".format\n",
    "pd.options.display.max_columns = 100\n",
    "pd.options.display.max_rows = 100\n",
    "import matplotlib.pyplot as plt\n",
    "import seaborn as sns\n",
    "sns.set_style('whitegrid')\n",
    "\n",
    "# Import DSA model class and stochastic subclass\n",
    "from classes import *\n",
    "from functions import *\n",
    "\n",
    "# Set autoreleoad\n",
    "%load_ext autoreload\n",
    "%autoreload 2"
   ]
  },
  {
   "cell_type": "markdown",
   "metadata": {},
   "source": [
    "### Initializing the DSA model and projecting the debt ratio"
   ]
  },
  {
   "cell_type": "markdown",
   "metadata": {},
   "source": [
    "Initialize model with country ISO code and adjustment period length. For deterministic projections the parent class \"DsaModel\" can be used, although I recommend always calling the StochasticDsaModel class to have access to all functionalities."
   ]
  },
  {
   "cell_type": "code",
   "execution_count": 26,
   "metadata": {},
   "outputs": [],
   "source": [
    "dsa_bel_4 = DsaModel('BEL')"
   ]
  },
  {
   "cell_type": "code",
   "execution_count": 27,
   "metadata": {},
   "outputs": [],
   "source": [
    "dsa_bel_4.project(spb_target=-5)"
   ]
  },
  {
   "cell_type": "code",
   "execution_count": 28,
   "metadata": {},
   "outputs": [
    {
     "data": {
      "text/plain": [
       "<Axes: xlabel='t,y'>"
      ]
     },
     "execution_count": 28,
     "metadata": {},
     "output_type": "execute_result"
    },
    {
     "data": {
      "image/png": "[encoded data removed]",
      "text/plain": [
       "<Figure size 640x480 with 1 Axes>"
      ]
     },
     "metadata": {},
     "output_type": "display_data"
    }
   ],
   "source": [
    "dsa_bel_4.df().loc[1:10]['d'].plot()"
   ]
  },
  {
   "cell_type": "markdown",
   "metadata": {},
   "source": [
    "Model functions (methods) and variables (attributes) can be inspected by typing the class name, followed by the attribute name. \\\n",
    "Explore the DsaModelClass and the StochasticDsaModelClass python files to see which attributes and methods exist."
   ]
  },
  {
   "cell_type": "code",
   "execution_count": 29,
   "metadata": {},
   "outputs": [
    {
     "data": {
      "text/plain": [
       "array([26.88247101, 27.17833051, 27.11703625, 27.26466781, 27.46194823,\n",
       "       27.59850986, 27.76255665, 27.68683362, 27.83379077, 27.93427369,\n",
       "       28.04099442, 28.12817225, 28.27322963, 28.38525526, 28.51605544,\n",
       "       28.59811555, 28.69850081, 28.73569697, 28.82755845, 28.86861486,\n",
       "       28.98291006, 29.05721036, 29.20114825, 29.28520301, 29.43195568,\n",
       "       29.51455684, 29.6500171 , 29.72595918, 29.84989299, 29.92441994,\n",
       "       30.05706051, 30.14132666, 30.28308859, 30.37072489, 30.50924108,\n",
       "       30.58535953, 30.70791302, 30.76741547, 30.88018602, 30.93826938,\n",
       "       31.06072586, 31.12838027, 31.25890067, 31.33353015, 31.48199155,\n",
       "       31.57888091, 31.74314342, 31.8626422 ])"
      ]
     },
     "execution_count": 29,
     "metadata": {},
     "output_type": "execute_result"
    }
   ],
   "source": [
    "dsa_bel_4.ageing_cost"
   ]
  },
  {
   "cell_type": "markdown",
   "metadata": {},
   "source": [
    "We can project the debt ratio forward, assuming linear adjustment to a structural primary balance target using the \"project\" method. \\\n",
    "To project the model under specific scenario assumptions, pass the scenario name as a string. Deterministic scenarios are \"main_adjustment\", \"adverse_r_g\", \"financial_stress\", and \"lower_spb\"."
   ]
  },
  {
   "cell_type": "code",
   "execution_count": 30,
   "metadata": {},
   "outputs": [],
   "source": [
    "dsa_bel_4.project(spb_target=1.6, scenario='financial_stress')"
   ]
  },
  {
   "cell_type": "markdown",
   "metadata": {},
   "source": [
    "For non-linear adjustment paths, for example due to an Excessive Deficit Procedure, we can specify each ajdustment step individually via the \"spb_steps\" attribute. \\\n",
    "Instead of specifying the steps manually, we can also call the \"find_edp\" method, which finds the number of periods in which, given the current SPB target, the minimum adjustment of 0.5% under the EDP is binding. The resulting minimum adjustment steps are updated automatically and saved in the \"edp_steps\" attribute. In cases where the entire adjustment period is needed to reach the 3% deficit targets, the adjustment step size is increased."
   ]
  },
  {
   "cell_type": "code",
   "execution_count": 31,
   "metadata": {},
   "outputs": [
    {
     "data": {
      "text/plain": [
       "array([0.5, 0.5, 0.5, 0. ])"
      ]
     },
     "execution_count": 31,
     "metadata": {},
     "output_type": "execute_result"
    }
   ],
   "source": [
    "spb_steps = np.array([0.5, 0.5, 0.5, 0])\n",
    "dsa_bel_4.project(spb_steps=spb_steps,\n",
    "                scenario='main_adjustment')\n",
    "dsa_bel_4.spb_steps"
   ]
  },
  {
   "cell_type": "markdown",
   "metadata": {},
   "source": [
    "We can show the resulting debt ratio and primary balance path using the \"df\" method. \\\n",
    "The \"df\" method takes strings of the model variables or a dictionary with model variables and desired column names as input argument and returns a pandas dataframe. If the method is called without specified variables, it returns a dataframe with the structural primary balance, the overall balance, and the debt ratio. "
   ]
  },
  {
   "cell_type": "code",
   "execution_count": 32,
   "metadata": {},
   "outputs": [
    {
     "data": {
      "text/html": [
       "<div>\n",
       "<style scoped>\n",
       "    .dataframe tbody tr th:only-of-type {\n",
       "        vertical-align: middle;\n",
       "    }\n",
       "\n",
       "    .dataframe tbody tr th {\n",
       "        vertical-align: top;\n",
       "    }\n",
       "\n",
       "    .dataframe thead th {\n",
       "        text-align: right;\n",
       "    }\n",
       "</style>\n",
       "<table border=\"1\" class=\"dataframe\">\n",
       "  <thead>\n",
       "    <tr style=\"text-align: right;\">\n",
       "      <th></th>\n",
       "      <th></th>\n",
       "      <th>d</th>\n",
       "      <th>ob</th>\n",
       "      <th>sb</th>\n",
       "      <th>spb_bca</th>\n",
       "      <th>spb_bca_adjustment</th>\n",
       "    </tr>\n",
       "    <tr>\n",
       "      <th>t</th>\n",
       "      <th>y</th>\n",
       "      <th></th>\n",
       "      <th></th>\n",
       "      <th></th>\n",
       "      <th></th>\n",
       "      <th></th>\n",
       "    </tr>\n",
       "  </thead>\n",
       "  <tbody>\n",
       "    <tr>\n",
       "      <th>1</th>\n",
       "      <th>2024</th>\n",
       "      <td>104.804</td>\n",
       "      <td>-4.261</td>\n",
       "      <td>-4.021</td>\n",
       "      <td>-1.869</td>\n",
       "      <td>0.309</td>\n",
       "    </tr>\n",
       "    <tr>\n",
       "      <th>2</th>\n",
       "      <th>2025</th>\n",
       "      <td>106.303</td>\n",
       "      <td>-4.274</td>\n",
       "      <td>-3.632</td>\n",
       "      <td>-1.369</td>\n",
       "      <td>0.500</td>\n",
       "    </tr>\n",
       "    <tr>\n",
       "      <th>3</th>\n",
       "      <th>2026</th>\n",
       "      <td>106.534</td>\n",
       "      <td>-3.914</td>\n",
       "      <td>-3.255</td>\n",
       "      <td>-0.869</td>\n",
       "      <td>0.500</td>\n",
       "    </tr>\n",
       "    <tr>\n",
       "      <th>4</th>\n",
       "      <th>2027</th>\n",
       "      <td>106.511</td>\n",
       "      <td>-3.526</td>\n",
       "      <td>-2.857</td>\n",
       "      <td>-0.369</td>\n",
       "      <td>0.500</td>\n",
       "    </tr>\n",
       "    <tr>\n",
       "      <th>5</th>\n",
       "      <th>2028</th>\n",
       "      <td>106.004</td>\n",
       "      <td>-3.383</td>\n",
       "      <td>-2.937</td>\n",
       "      <td>-0.369</td>\n",
       "      <td>0.000</td>\n",
       "    </tr>\n",
       "    <tr>\n",
       "      <th>6</th>\n",
       "      <th>2029</th>\n",
       "      <td>105.728</td>\n",
       "      <td>-3.457</td>\n",
       "      <td>-3.160</td>\n",
       "      <td>-0.369</td>\n",
       "      <td>0.000</td>\n",
       "    </tr>\n",
       "  </tbody>\n",
       "</table>\n",
       "</div>"
      ],
      "text/plain": [
       "             d     ob     sb  spb_bca  spb_bca_adjustment\n",
       "t y                                                      \n",
       "1 2024 104.804 -4.261 -4.021   -1.869               0.309\n",
       "2 2025 106.303 -4.274 -3.632   -1.369               0.500\n",
       "3 2026 106.534 -3.914 -3.255   -0.869               0.500\n",
       "4 2027 106.511 -3.526 -2.857   -0.369               0.500\n",
       "5 2028 106.004 -3.383 -2.937   -0.369               0.000\n",
       "6 2029 105.728 -3.457 -3.160   -0.369               0.000"
      ]
     },
     "execution_count": 32,
     "metadata": {},
     "output_type": "execute_result"
    }
   ],
   "source": [
    "dsa_bel_4.df().iloc[1:7]"
   ]
  },
  {
   "cell_type": "markdown",
   "metadata": {},
   "source": [
    "If the df method is called with parameter \"all\" set to \"True\", a preset list of variables will be included. The included variables are listed below."
   ]
  },
  {
   "cell_type": "code",
   "execution_count": 33,
   "metadata": {},
   "outputs": [
    {
     "data": {
      "text/plain": [
       "Index(['D', 'D_lt', 'D_lt_esm', 'D_new_lt', 'D_share_lt_maturing', 'D_st',\n",
       "       'GFN', 'OB', 'PB', 'SB', 'SF', 'SPB', 'ageing_component', 'ageing_cost',\n",
       "       'alpha', 'beta', 'cyclical_component', 'd', 'deficit_resilience_steps',\n",
       "       'edp_steps', 'exr', 'exr_eur', 'exr_usd', 'fiscal_multiplier_effect',\n",
       "       'i_lt', 'i_st', 'iir', 'iir_bl', 'iir_lt', 'interest', 'interest_lt',\n",
       "       'interest_ratio', 'interest_st', 'net_expenditure_growth', 'ng',\n",
       "       'ng_bl', 'ngdp', 'ngdp_bl', 'ob', 'output_gap', 'output_gap_bl', 'pb',\n",
       "       'pension_revenue', 'pi', 'post_spb_steps', 'property_income',\n",
       "       'property_income_component', 'repayment', 'repayment_lt',\n",
       "       'repayment_lt_bond', 'repayment_lt_esm', 'repayment_st', 'rg', 'rg_bl',\n",
       "       'rg_pot', 'rgdp', 'rgdp_bl', 'rgdp_pot', 'sb', 'sf', 'spb', 'spb_bca',\n",
       "       'spb_bca_adjustment', 'spb_bl', 'spb_steps', 'spb_steps_baseline'],\n",
       "      dtype='object')"
      ]
     },
     "execution_count": 33,
     "metadata": {},
     "output_type": "execute_result"
    }
   ],
   "source": [
    "dsa_bel_4.df(all=True).columns"
   ]
  },
  {
   "cell_type": "markdown",
   "metadata": {},
   "source": [
    "### Deterministic Optimization"
   ]
  },
  {
   "cell_type": "markdown",
   "metadata": {},
   "source": [
    "The \"find_spb_deterministic\" optimizes for a structural primary balance at the end of the adjustment period that meets the specified deterministic scenario criterion. Additional parameters, like initial adjustment periods, that have been specified in the initial projection, are taken as given.\\\n",
    "The criterion can be any of 'main_adjustment', 'lower_spb', 'financial_stress', 'adverse_r_g', 'deficit_reduction', or 'debt_safeguard'. \\\n",
    "Note that the debt_safeguard is applied from the end of the Excessive Deficit Procedure. Because the end of the EDP may vary with the size of annual adjustments, the debt safeguard may produce a different target when applied by itself or after having optimized for other criteria. In our analysis, we apply the debt safeguard conditional on the toughest scenario path."
   ]
  },
  {
   "cell_type": "code",
   "execution_count": 34,
   "metadata": {},
   "outputs": [
    {
     "data": {
      "text/plain": [
       "1.1014999999998327"
      ]
     },
     "execution_count": 34,
     "metadata": {},
     "output_type": "execute_result"
    }
   ],
   "source": [
    "dsa_bel_4.find_spb_deterministic(criterion='adverse_r_g')"
   ]
  },
  {
   "cell_type": "markdown",
   "metadata": {},
   "source": [
    "The model projections are updated automatically to the optimal SPB target and we can plot the resulting debt ratio projection, for example by using the \"df\" method and pandas' built-in plotting function.\\\n",
    "Here we plot the ageing-cost adjusted structural primary balance, as well as the structural primary balance that includes ageing costs, the overall balance, and the debt ratio."
   ]
  },
  {
   "cell_type": "code",
   "execution_count": 35,
   "metadata": {},
   "outputs": [
    {
     "data": {
      "text/plain": [
       "<Axes: title={'center': 'Belgium: Debt ratio and balance'}, xlabel='(t, Year)'>"
      ]
     },
     "execution_count": 35,
     "metadata": {},
     "output_type": "execute_result"
    },
    {
     "data": {
      "image/png": "[encoded data removed]",
      "text/plain": [
       "<Figure size 1000x600 with 2 Axes>"
      ]
     },
     "metadata": {},
     "output_type": "display_data"
    }
   ],
   "source": [
    "dsa_bel_4.df('spb_bca', 'spb',  'ob', 'd').plot(\n",
    "    title='Belgium: Debt ratio and balance', \n",
    "    secondary_y=['spb', 'spb_bca', 'ob'], \n",
    "    ylabel='Percent of GDP', \n",
    "    xlabel='(t, Year)', \n",
    "    legend=True, \n",
    "    figsize=(10, 6))"
   ]
  },
  {
   "cell_type": "markdown",
   "metadata": {},
   "source": [
    "### Stochastic Optimization"
   ]
  },
  {
   "cell_type": "markdown",
   "metadata": {},
   "source": [
    "The StochasticDsaModel class is a subclass of the DsaModel and inherits all its functionalities. It is initiated analogously.\n",
    "\n",
    "The latest update introuces a number of addiitonal parameters that can be altered to test model assumptions. These include:\n",
    "- \"ageing_cost_period\" to specify the post-adjustment window during which ageing costs are seperated out from SPB \n",
    "- \"shock_frequency\" to specify the underlying shock data frequenct as \"quarterly\" or annual\"\n",
    "- \"shock_sample_start\" for the start of the sampled shock data\n",
    "- \"stochastic_start_year\" for the start of the fanchart, ie the period form which unceirtainty is incorporated into projections"
   ]
  },
  {
   "cell_type": "code",
   "execution_count": 36,
   "metadata": {},
   "outputs": [],
   "source": [
    "esp_sdsa_7 = StochasticDsaModel(country='ESP', adjustment_period=7)"
   ]
  },
  {
   "cell_type": "markdown",
   "metadata": {},
   "source": [
    "After projecting the debt path, the \"simulate\" method simulates N projections based on shocks to growth, interest rate, exchange rate, and primary balance."
   ]
  },
  {
   "cell_type": "code",
   "execution_count": 37,
   "metadata": {},
   "outputs": [],
   "source": [
    "esp_sdsa_7.project()\n",
    "esp_sdsa_7.simulate(N=100000)"
   ]
  },
  {
   "cell_type": "markdown",
   "metadata": {},
   "source": [
    "The \"fanchart\" method plots the percentiles of the simulated distribution of the debt ratio. If the save_df option is specified, we can access the underlying percentile data as new model attribute. The period parameter determines the number of projection periods. The Commission methodology uses 5."
   ]
  },
  {
   "cell_type": "code",
   "execution_count": 38,
   "metadata": {},
   "outputs": [
    {
     "data": {
      "image/png": "[encoded data removed]",
      "text/plain": [
       "<Figure size 1000x600 with 1 Axes>"
      ]
     },
     "metadata": {},
     "output_type": "display_data"
    }
   ],
   "source": [
    "esp_sdsa_7.fanchart()"
   ]
  },
  {
   "cell_type": "code",
   "execution_count": 39,
   "metadata": {},
   "outputs": [
    {
     "data": {
      "text/html": [
       "<div>\n",
       "<style scoped>\n",
       "    .dataframe tbody tr th:only-of-type {\n",
       "        vertical-align: middle;\n",
       "    }\n",
       "\n",
       "    .dataframe tbody tr th {\n",
       "        vertical-align: top;\n",
       "    }\n",
       "\n",
       "    .dataframe thead th {\n",
       "        text-align: right;\n",
       "    }\n",
       "</style>\n",
       "<table border=\"1\" class=\"dataframe\">\n",
       "  <thead>\n",
       "    <tr style=\"text-align: right;\">\n",
       "      <th></th>\n",
       "      <th>year</th>\n",
       "      <th>baseline</th>\n",
       "      <th>p10</th>\n",
       "      <th>p20</th>\n",
       "      <th>p30</th>\n",
       "      <th>p40</th>\n",
       "      <th>p50</th>\n",
       "      <th>p60</th>\n",
       "      <th>p70</th>\n",
       "      <th>p80</th>\n",
       "      <th>p90</th>\n",
       "    </tr>\n",
       "  </thead>\n",
       "  <tbody>\n",
       "    <tr>\n",
       "      <th>8</th>\n",
       "      <td>2031</td>\n",
       "      <td>105.233</td>\n",
       "      <td>105.233</td>\n",
       "      <td>105.233</td>\n",
       "      <td>105.233</td>\n",
       "      <td>105.233</td>\n",
       "      <td>105.233</td>\n",
       "      <td>105.233</td>\n",
       "      <td>105.233</td>\n",
       "      <td>105.233</td>\n",
       "      <td>105.233</td>\n",
       "    </tr>\n",
       "    <tr>\n",
       "      <th>9</th>\n",
       "      <td>2032</td>\n",
       "      <td>106.393</td>\n",
       "      <td>101.731</td>\n",
       "      <td>103.320</td>\n",
       "      <td>104.477</td>\n",
       "      <td>105.476</td>\n",
       "      <td>106.410</td>\n",
       "      <td>107.365</td>\n",
       "      <td>108.367</td>\n",
       "      <td>109.542</td>\n",
       "      <td>111.179</td>\n",
       "    </tr>\n",
       "    <tr>\n",
       "      <th>10</th>\n",
       "      <td>2033</td>\n",
       "      <td>107.992</td>\n",
       "      <td>101.393</td>\n",
       "      <td>103.647</td>\n",
       "      <td>105.283</td>\n",
       "      <td>106.711</td>\n",
       "      <td>108.046</td>\n",
       "      <td>109.383</td>\n",
       "      <td>110.798</td>\n",
       "      <td>112.513</td>\n",
       "      <td>114.888</td>\n",
       "    </tr>\n",
       "    <tr>\n",
       "      <th>11</th>\n",
       "      <td>2034</td>\n",
       "      <td>109.919</td>\n",
       "      <td>101.800</td>\n",
       "      <td>104.566</td>\n",
       "      <td>106.566</td>\n",
       "      <td>108.328</td>\n",
       "      <td>109.969</td>\n",
       "      <td>111.605</td>\n",
       "      <td>113.423</td>\n",
       "      <td>115.521</td>\n",
       "      <td>118.465</td>\n",
       "    </tr>\n",
       "    <tr>\n",
       "      <th>12</th>\n",
       "      <td>2035</td>\n",
       "      <td>112.033</td>\n",
       "      <td>102.535</td>\n",
       "      <td>105.784</td>\n",
       "      <td>108.120</td>\n",
       "      <td>110.166</td>\n",
       "      <td>112.097</td>\n",
       "      <td>114.035</td>\n",
       "      <td>116.143</td>\n",
       "      <td>118.623</td>\n",
       "      <td>122.082</td>\n",
       "    </tr>\n",
       "    <tr>\n",
       "      <th>13</th>\n",
       "      <td>2036</td>\n",
       "      <td>114.283</td>\n",
       "      <td>103.491</td>\n",
       "      <td>107.135</td>\n",
       "      <td>109.848</td>\n",
       "      <td>112.139</td>\n",
       "      <td>114.373</td>\n",
       "      <td>116.571</td>\n",
       "      <td>118.967</td>\n",
       "      <td>121.811</td>\n",
       "      <td>125.840</td>\n",
       "    </tr>\n",
       "  </tbody>\n",
       "</table>\n",
       "</div>"
      ],
      "text/plain": [
       "    year  baseline     p10     p20     p30     p40     p50     p60     p70  \\\n",
       "8   2031   105.233 105.233 105.233 105.233 105.233 105.233 105.233 105.233   \n",
       "9   2032   106.393 101.731 103.320 104.477 105.476 106.410 107.365 108.367   \n",
       "10  2033   107.992 101.393 103.647 105.283 106.711 108.046 109.383 110.798   \n",
       "11  2034   109.919 101.800 104.566 106.566 108.328 109.969 111.605 113.423   \n",
       "12  2035   112.033 102.535 105.784 108.120 110.166 112.097 114.035 116.143   \n",
       "13  2036   114.283 103.491 107.135 109.848 112.139 114.373 116.571 118.967   \n",
       "\n",
       "       p80     p90  \n",
       "8  105.233 105.233  \n",
       "9  109.542 111.179  \n",
       "10 112.513 114.888  \n",
       "11 115.521 118.465  \n",
       "12 118.623 122.082  \n",
       "13 121.811 125.840  "
      ]
     },
     "execution_count": 39,
     "metadata": {},
     "output_type": "execute_result"
    }
   ],
   "source": [
    "esp_sdsa_7.df_fanchart.dropna()"
   ]
  },
  {
   "cell_type": "markdown",
   "metadata": {},
   "source": [
    "The \"find_spb_stochastic\" method optimizes for the primary balance path that ensures no more than 30% of simulated debt ratio paths are increasing. The probability target and the period over whcih the fanchart and the criterion are applied can be changed from their default values."
   ]
  },
  {
   "cell_type": "code",
   "execution_count": 40,
   "metadata": {},
   "outputs": [
    {
     "data": {
      "text/plain": [
       "1.6765631776532355"
      ]
     },
     "execution_count": 40,
     "metadata": {},
     "output_type": "execute_result"
    }
   ],
   "source": [
    "esp_sdsa_7.find_spb_stochastic(prob_target=0.3)"
   ]
  },
  {
   "cell_type": "markdown",
   "metadata": {},
   "source": [
    "### Integrated optimization"
   ]
  },
  {
   "cell_type": "markdown",
   "metadata": {},
   "source": [
    "To quickly calculate all scenarios and detmerine which is binding, we can call the \"find_spb_binding\" method. Note that this method is only available after initalizing a stochastic model. \\\n",
    "The method determines optimal SPB targets for all deterministic and stochastic DSA criteria, as well as for the 3% deficit criteria. If no spcified differently, the method then checks whether the EDP or either of the two safeguards, the debt and the deficit resilience safeguard, are violated and corrects the binding SPB target accordingly."
   ]
  },
  {
   "cell_type": "code",
   "execution_count": 41,
   "metadata": {},
   "outputs": [
    {
     "name": "stdout",
     "output_type": "stream",
     "text": [
      "                  Model Params                             SPB Targets       \n",
      "================================================     ========================\n",
      "country                                      ESP     main_adjustment    2.109\n",
      "adjustment period                              7     lower_spb          2.602\n",
      "adjustment start                            2025     financial_stress   2.149\n",
      "shock frequency                        quarterly     adverse_r_g        2.783\n",
      "stochastic period                      2032-2037     deficit_reduction  2.283\n",
      "estimation                               normal      stochastic         1.678\n",
      "bond level data                            False     binding            2.783\n",
      "safeguards         EDP, debt, deficit_resilience                             \n",
      "================================================     ========================\n",
      "\n",
      "                                Binding Params                               \n",
      "=============================================================================\n",
      "spb_steps                     0.519, 0.519, 0.519, 0.519, 0.519, 0.519, 0.519\n",
      "spb_target                                                              2.783\n",
      "criterion                                                         adverse_r_g\n",
      "edp_binding                                                             False\n",
      "edp_steps                                   nan, nan, nan, nan, nan, nan, nan\n",
      "debt_safeguard_binding                                                  False\n",
      "deficit_resilience_binding                                              False\n",
      "deficit_resilience_steps                    nan, nan, nan, nan, nan, nan, nan\n",
      "net_expenditure_growth        2.839, 2.221, 2.243, 2.344, 2.346, 2.264, 2.147\n",
      "=============================================================================\n",
      "\n"
     ]
    }
   ],
   "source": [
    "esp_sdsa_7.find_spb_binding(\n",
    "    save_df=True, \n",
    "    edp=True, \n",
    "    debt_safeguard=True, \n",
    "    deficit_resilience=True\n",
    "    )"
   ]
  },
  {
   "cell_type": "markdown",
   "metadata": {},
   "source": [
    "The \"find_spb_binding\" method saves a dictionaries with the binding targets and timeseries for all scenarios. In addition, it saves the projection parameters of the binding scenario for quick replication."
   ]
  },
  {
   "cell_type": "code",
   "execution_count": 42,
   "metadata": {},
   "outputs": [
    {
     "data": {
      "text/html": [
       "<div>\n",
       "<style scoped>\n",
       "    .dataframe tbody tr th:only-of-type {\n",
       "        vertical-align: middle;\n",
       "    }\n",
       "\n",
       "    .dataframe tbody tr th {\n",
       "        vertical-align: top;\n",
       "    }\n",
       "\n",
       "    .dataframe thead th {\n",
       "        text-align: right;\n",
       "    }\n",
       "</style>\n",
       "<table border=\"1\" class=\"dataframe\">\n",
       "  <thead>\n",
       "    <tr style=\"text-align: right;\">\n",
       "      <th></th>\n",
       "      <th></th>\n",
       "      <th>D</th>\n",
       "      <th>D_lt</th>\n",
       "      <th>D_lt_esm</th>\n",
       "      <th>D_new_lt</th>\n",
       "      <th>D_share_lt_maturing</th>\n",
       "      <th>D_st</th>\n",
       "      <th>GFN</th>\n",
       "      <th>OB</th>\n",
       "      <th>PB</th>\n",
       "      <th>SB</th>\n",
       "      <th>SF</th>\n",
       "      <th>SPB</th>\n",
       "      <th>ageing_component</th>\n",
       "      <th>ageing_cost</th>\n",
       "      <th>alpha</th>\n",
       "      <th>beta</th>\n",
       "      <th>cyclical_component</th>\n",
       "      <th>d</th>\n",
       "      <th>deficit_resilience_steps</th>\n",
       "      <th>deficit_resilience_target</th>\n",
       "      <th>edp_steps</th>\n",
       "      <th>edp_target</th>\n",
       "      <th>exr</th>\n",
       "      <th>exr_eur</th>\n",
       "      <th>exr_usd</th>\n",
       "      <th>fiscal_multiplier_effect</th>\n",
       "      <th>i_lt</th>\n",
       "      <th>i_st</th>\n",
       "      <th>iir</th>\n",
       "      <th>iir_bl</th>\n",
       "      <th>iir_lt</th>\n",
       "      <th>interest</th>\n",
       "      <th>interest_lt</th>\n",
       "      <th>interest_ratio</th>\n",
       "      <th>interest_st</th>\n",
       "      <th>net_expenditure_growth</th>\n",
       "      <th>ng</th>\n",
       "      <th>ng_bl</th>\n",
       "      <th>ngdp</th>\n",
       "      <th>ngdp_bl</th>\n",
       "      <th>ob</th>\n",
       "      <th>output_gap</th>\n",
       "      <th>output_gap_bl</th>\n",
       "      <th>pb</th>\n",
       "      <th>pension_revenue</th>\n",
       "      <th>pi</th>\n",
       "      <th>post_spb_steps</th>\n",
       "      <th>property_income</th>\n",
       "      <th>property_income_component</th>\n",
       "      <th>repayment</th>\n",
       "      <th>repayment_lt</th>\n",
       "      <th>repayment_lt_bond</th>\n",
       "      <th>repayment_lt_esm</th>\n",
       "      <th>repayment_st</th>\n",
       "      <th>rg</th>\n",
       "      <th>rg_bl</th>\n",
       "      <th>rg_pot</th>\n",
       "      <th>rgdp</th>\n",
       "      <th>rgdp_bl</th>\n",
       "      <th>rgdp_pot</th>\n",
       "      <th>sb</th>\n",
       "      <th>sf</th>\n",
       "      <th>spb</th>\n",
       "      <th>spb_bca</th>\n",
       "      <th>spb_bca_adjustment</th>\n",
       "      <th>spb_bl</th>\n",
       "      <th>spb_steps</th>\n",
       "      <th>spb_steps_baseline</th>\n",
       "    </tr>\n",
       "    <tr>\n",
       "      <th>t</th>\n",
       "      <th>y</th>\n",
       "      <th></th>\n",
       "      <th></th>\n",
       "      <th></th>\n",
       "      <th></th>\n",
       "      <th></th>\n",
       "      <th></th>\n",
       "      <th></th>\n",
       "      <th></th>\n",
       "      <th></th>\n",
       "      <th></th>\n",
       "      <th></th>\n",
       "      <th></th>\n",
       "      <th></th>\n",
       "      <th></th>\n",
       "      <th></th>\n",
       "      <th></th>\n",
       "      <th></th>\n",
       "      <th></th>\n",
       "      <th></th>\n",
       "      <th></th>\n",
       "      <th></th>\n",
       "      <th></th>\n",
       "      <th></th>\n",
       "      <th></th>\n",
       "      <th></th>\n",
       "      <th></th>\n",
       "      <th></th>\n",
       "      <th></th>\n",
       "      <th></th>\n",
       "      <th></th>\n",
       "      <th></th>\n",
       "      <th></th>\n",
       "      <th></th>\n",
       "      <th></th>\n",
       "      <th></th>\n",
       "      <th></th>\n",
       "      <th></th>\n",
       "      <th></th>\n",
       "      <th></th>\n",
       "      <th></th>\n",
       "      <th></th>\n",
       "      <th></th>\n",
       "      <th></th>\n",
       "      <th></th>\n",
       "      <th></th>\n",
       "      <th></th>\n",
       "      <th></th>\n",
       "      <th></th>\n",
       "      <th></th>\n",
       "      <th></th>\n",
       "      <th></th>\n",
       "      <th></th>\n",
       "      <th></th>\n",
       "      <th></th>\n",
       "      <th></th>\n",
       "      <th></th>\n",
       "      <th></th>\n",
       "      <th></th>\n",
       "      <th></th>\n",
       "      <th></th>\n",
       "      <th></th>\n",
       "      <th></th>\n",
       "      <th></th>\n",
       "      <th></th>\n",
       "      <th></th>\n",
       "      <th></th>\n",
       "      <th></th>\n",
       "      <th></th>\n",
       "    </tr>\n",
       "  </thead>\n",
       "  <tbody>\n",
       "    <tr>\n",
       "      <th>0</th>\n",
       "      <th>2023</th>\n",
       "      <td>1,573.800</td>\n",
       "      <td>1,483.978</td>\n",
       "      <td>-0.000</td>\n",
       "      <td>0.000</td>\n",
       "      <td>0.085</td>\n",
       "      <td>89.822</td>\n",
       "      <td>NaN</td>\n",
       "      <td>NaN</td>\n",
       "      <td>-17.193</td>\n",
       "      <td>NaN</td>\n",
       "      <td>17.800</td>\n",
       "      <td>NaN</td>\n",
       "      <td>0.000</td>\n",
       "      <td>24.315</td>\n",
       "      <td>0.057</td>\n",
       "      <td>0.000</td>\n",
       "      <td>0.455</td>\n",
       "      <td>107.652</td>\n",
       "      <td>NaN</td>\n",
       "      <td>-1.500</td>\n",
       "      <td>NaN</td>\n",
       "      <td>-3.000</td>\n",
       "      <td>NaN</td>\n",
       "      <td>1.000</td>\n",
       "      <td>1.081</td>\n",
       "      <td>0.000</td>\n",
       "      <td>3.476</td>\n",
       "      <td>3.263</td>\n",
       "      <td>2.393</td>\n",
       "      <td>NaN</td>\n",
       "      <td>2.257</td>\n",
       "      <td>NaN</td>\n",
       "      <td>NaN</td>\n",
       "      <td>NaN</td>\n",
       "      <td>NaN</td>\n",
       "      <td>NaN</td>\n",
       "      <td>8.579</td>\n",
       "      <td>8.579</td>\n",
       "      <td>1,461.889</td>\n",
       "      <td>1,461.889</td>\n",
       "      <td>-3.636</td>\n",
       "      <td>0.762</td>\n",
       "      <td>0.762</td>\n",
       "      <td>-1.176</td>\n",
       "      <td>1.126</td>\n",
       "      <td>5.928</td>\n",
       "      <td>0.000</td>\n",
       "      <td>0.000</td>\n",
       "      <td>0.000</td>\n",
       "      <td>NaN</td>\n",
       "      <td>NaN</td>\n",
       "      <td>0.000</td>\n",
       "      <td>4.575</td>\n",
       "      <td>NaN</td>\n",
       "      <td>2.503</td>\n",
       "      <td>2.503</td>\n",
       "      <td>1.882</td>\n",
       "      <td>1,222.811</td>\n",
       "      <td>1,222.811</td>\n",
       "      <td>1,213.565</td>\n",
       "      <td>-4.091</td>\n",
       "      <td>1.218</td>\n",
       "      <td>-1.631</td>\n",
       "      <td>-1.631</td>\n",
       "      <td>NaN</td>\n",
       "      <td>-1.631</td>\n",
       "      <td>0.519</td>\n",
       "      <td>0.519</td>\n",
       "    </tr>\n",
       "    <tr>\n",
       "      <th>1</th>\n",
       "      <th>2024</th>\n",
       "      <td>1,623.708</td>\n",
       "      <td>1,534.021</td>\n",
       "      <td>-4.575</td>\n",
       "      <td>176.816</td>\n",
       "      <td>0.085</td>\n",
       "      <td>94.262</td>\n",
       "      <td>271.078</td>\n",
       "      <td>-42.968</td>\n",
       "      <td>-4.085</td>\n",
       "      <td>-51.972</td>\n",
       "      <td>6.940</td>\n",
       "      <td>-13.090</td>\n",
       "      <td>0.000</td>\n",
       "      <td>24.390</td>\n",
       "      <td>0.058</td>\n",
       "      <td>0.115</td>\n",
       "      <td>0.584</td>\n",
       "      <td>105.229</td>\n",
       "      <td>NaN</td>\n",
       "      <td>-1.500</td>\n",
       "      <td>NaN</td>\n",
       "      <td>-3.000</td>\n",
       "      <td>NaN</td>\n",
       "      <td>1.000</td>\n",
       "      <td>1.071</td>\n",
       "      <td>0.000</td>\n",
       "      <td>3.240</td>\n",
       "      <td>3.463</td>\n",
       "      <td>2.393</td>\n",
       "      <td>NaN</td>\n",
       "      <td>2.423</td>\n",
       "      <td>38.882</td>\n",
       "      <td>35.951</td>\n",
       "      <td>2.522</td>\n",
       "      <td>2.931</td>\n",
       "      <td>3.695</td>\n",
       "      <td>5.467</td>\n",
       "      <td>5.467</td>\n",
       "      <td>1,541.815</td>\n",
       "      <td>1,541.815</td>\n",
       "      <td>-2.787</td>\n",
       "      <td>0.978</td>\n",
       "      <td>0.978</td>\n",
       "      <td>-0.265</td>\n",
       "      <td>1.133</td>\n",
       "      <td>3.253</td>\n",
       "      <td>0.000</td>\n",
       "      <td>0.000</td>\n",
       "      <td>0.000</td>\n",
       "      <td>221.170</td>\n",
       "      <td>126.772</td>\n",
       "      <td>0.000</td>\n",
       "      <td>4.575</td>\n",
       "      <td>89.822</td>\n",
       "      <td>2.145</td>\n",
       "      <td>2.145</td>\n",
       "      <td>1.926</td>\n",
       "      <td>1,249.037</td>\n",
       "      <td>1,249.037</td>\n",
       "      <td>1,236.936</td>\n",
       "      <td>-3.371</td>\n",
       "      <td>0.450</td>\n",
       "      <td>-0.849</td>\n",
       "      <td>-0.849</td>\n",
       "      <td>0.782</td>\n",
       "      <td>-0.849</td>\n",
       "      <td>0.519</td>\n",
       "      <td>0.519</td>\n",
       "    </tr>\n",
       "    <tr>\n",
       "      <th>2</th>\n",
       "      <th>2025</th>\n",
       "      <td>1,679.698</td>\n",
       "      <td>1,589.206</td>\n",
       "      <td>-8.218</td>\n",
       "      <td>186.610</td>\n",
       "      <td>0.086</td>\n",
       "      <td>98.709</td>\n",
       "      <td>285.319</td>\n",
       "      <td>-40.870</td>\n",
       "      <td>0.313</td>\n",
       "      <td>-46.477</td>\n",
       "      <td>15.120</td>\n",
       "      <td>-5.295</td>\n",
       "      <td>0.000</td>\n",
       "      <td>24.443</td>\n",
       "      <td>0.059</td>\n",
       "      <td>0.117</td>\n",
       "      <td>0.350</td>\n",
       "      <td>104.512</td>\n",
       "      <td>NaN</td>\n",
       "      <td>-1.500</td>\n",
       "      <td>NaN</td>\n",
       "      <td>-3.000</td>\n",
       "      <td>NaN</td>\n",
       "      <td>1.000</td>\n",
       "      <td>1.066</td>\n",
       "      <td>0.309</td>\n",
       "      <td>3.369</td>\n",
       "      <td>3.446</td>\n",
       "      <td>2.393</td>\n",
       "      <td>NaN</td>\n",
       "      <td>2.472</td>\n",
       "      <td>41.183</td>\n",
       "      <td>37.919</td>\n",
       "      <td>2.568</td>\n",
       "      <td>3.264</td>\n",
       "      <td>2.839</td>\n",
       "      <td>4.015</td>\n",
       "      <td>4.335</td>\n",
       "      <td>1,603.725</td>\n",
       "      <td>1,608.658</td>\n",
       "      <td>-2.548</td>\n",
       "      <td>0.586</td>\n",
       "      <td>0.895</td>\n",
       "      <td>0.019</td>\n",
       "      <td>1.138</td>\n",
       "      <td>2.342</td>\n",
       "      <td>0.000</td>\n",
       "      <td>0.000</td>\n",
       "      <td>0.000</td>\n",
       "      <td>229.329</td>\n",
       "      <td>131.425</td>\n",
       "      <td>0.000</td>\n",
       "      <td>3.643</td>\n",
       "      <td>94.262</td>\n",
       "      <td>1.635</td>\n",
       "      <td>1.947</td>\n",
       "      <td>2.031</td>\n",
       "      <td>1,269.456</td>\n",
       "      <td>1,273.361</td>\n",
       "      <td>1,262.065</td>\n",
       "      <td>-2.898</td>\n",
       "      <td>0.943</td>\n",
       "      <td>-0.330</td>\n",
       "      <td>-0.330</td>\n",
       "      <td>0.519</td>\n",
       "      <td>-0.743</td>\n",
       "      <td>0.519</td>\n",
       "      <td>0.519</td>\n",
       "    </tr>\n",
       "    <tr>\n",
       "      <th>3</th>\n",
       "      <th>2026</th>\n",
       "      <td>1,721.154</td>\n",
       "      <td>1,630.443</td>\n",
       "      <td>-11.861</td>\n",
       "      <td>177.779</td>\n",
       "      <td>0.086</td>\n",
       "      <td>102.572</td>\n",
       "      <td>280.351</td>\n",
       "      <td>-41.456</td>\n",
       "      <td>3.142</td>\n",
       "      <td>-41.469</td>\n",
       "      <td>0.000</td>\n",
       "      <td>3.129</td>\n",
       "      <td>0.000</td>\n",
       "      <td>24.527</td>\n",
       "      <td>0.060</td>\n",
       "      <td>0.109</td>\n",
       "      <td>0.001</td>\n",
       "      <td>103.558</td>\n",
       "      <td>NaN</td>\n",
       "      <td>-1.500</td>\n",
       "      <td>NaN</td>\n",
       "      <td>-3.000</td>\n",
       "      <td>NaN</td>\n",
       "      <td>1.000</td>\n",
       "      <td>1.066</td>\n",
       "      <td>0.389</td>\n",
       "      <td>3.497</td>\n",
       "      <td>3.429</td>\n",
       "      <td>2.641</td>\n",
       "      <td>NaN</td>\n",
       "      <td>2.592</td>\n",
       "      <td>44.598</td>\n",
       "      <td>41.197</td>\n",
       "      <td>2.690</td>\n",
       "      <td>3.401</td>\n",
       "      <td>2.221</td>\n",
       "      <td>3.398</td>\n",
       "      <td>3.694</td>\n",
       "      <td>1,658.214</td>\n",
       "      <td>1,668.087</td>\n",
       "      <td>-2.500</td>\n",
       "      <td>0.001</td>\n",
       "      <td>0.597</td>\n",
       "      <td>0.189</td>\n",
       "      <td>1.146</td>\n",
       "      <td>2.343</td>\n",
       "      <td>0.000</td>\n",
       "      <td>0.000</td>\n",
       "      <td>0.000</td>\n",
       "      <td>238.895</td>\n",
       "      <td>136.543</td>\n",
       "      <td>0.000</td>\n",
       "      <td>3.643</td>\n",
       "      <td>98.709</td>\n",
       "      <td>1.031</td>\n",
       "      <td>1.321</td>\n",
       "      <td>1.621</td>\n",
       "      <td>1,282.540</td>\n",
       "      <td>1,290.177</td>\n",
       "      <td>1,282.524</td>\n",
       "      <td>-2.501</td>\n",
       "      <td>0.000</td>\n",
       "      <td>0.189</td>\n",
       "      <td>0.189</td>\n",
       "      <td>0.519</td>\n",
       "      <td>-0.743</td>\n",
       "      <td>0.519</td>\n",
       "      <td>0.519</td>\n",
       "    </tr>\n",
       "    <tr>\n",
       "      <th>4</th>\n",
       "      <th>2027</th>\n",
       "      <td>1,760.615</td>\n",
       "      <td>1,667.588</td>\n",
       "      <td>-11.861</td>\n",
       "      <td>177.633</td>\n",
       "      <td>0.086</td>\n",
       "      <td>104.888</td>\n",
       "      <td>282.520</td>\n",
       "      <td>-39.462</td>\n",
       "      <td>8.159</td>\n",
       "      <td>-35.487</td>\n",
       "      <td>0.000</td>\n",
       "      <td>12.134</td>\n",
       "      <td>0.000</td>\n",
       "      <td>24.641</td>\n",
       "      <td>0.060</td>\n",
       "      <td>0.107</td>\n",
       "      <td>-0.232</td>\n",
       "      <td>102.410</td>\n",
       "      <td>NaN</td>\n",
       "      <td>-1.500</td>\n",
       "      <td>NaN</td>\n",
       "      <td>-3.000</td>\n",
       "      <td>NaN</td>\n",
       "      <td>1.000</td>\n",
       "      <td>1.066</td>\n",
       "      <td>0.389</td>\n",
       "      <td>3.626</td>\n",
       "      <td>3.412</td>\n",
       "      <td>2.747</td>\n",
       "      <td>NaN</td>\n",
       "      <td>2.705</td>\n",
       "      <td>47.621</td>\n",
       "      <td>44.103</td>\n",
       "      <td>2.777</td>\n",
       "      <td>3.517</td>\n",
       "      <td>2.243</td>\n",
       "      <td>3.419</td>\n",
       "      <td>3.515</td>\n",
       "      <td>1,714.906</td>\n",
       "      <td>1,726.726</td>\n",
       "      <td>-2.301</td>\n",
       "      <td>-0.388</td>\n",
       "      <td>0.298</td>\n",
       "      <td>0.476</td>\n",
       "      <td>1.155</td>\n",
       "      <td>2.343</td>\n",
       "      <td>0.000</td>\n",
       "      <td>0.000</td>\n",
       "      <td>0.000</td>\n",
       "      <td>243.059</td>\n",
       "      <td>140.487</td>\n",
       "      <td>0.000</td>\n",
       "      <td>0.000</td>\n",
       "      <td>102.572</td>\n",
       "      <td>1.051</td>\n",
       "      <td>1.145</td>\n",
       "      <td>1.446</td>\n",
       "      <td>1,296.019</td>\n",
       "      <td>1,304.952</td>\n",
       "      <td>1,301.070</td>\n",
       "      <td>-2.069</td>\n",
       "      <td>0.000</td>\n",
       "      <td>0.708</td>\n",
       "      <td>0.708</td>\n",
       "      <td>0.519</td>\n",
       "      <td>-0.743</td>\n",
       "      <td>0.519</td>\n",
       "      <td>0.519</td>\n",
       "    </tr>\n",
       "  </tbody>\n",
       "</table>\n",
       "</div>"
      ],
      "text/plain": [
       "               D      D_lt  D_lt_esm  D_new_lt  D_share_lt_maturing    D_st  \\\n",
       "t y                                                                           \n",
       "0 2023 1,573.800 1,483.978    -0.000     0.000                0.085  89.822   \n",
       "1 2024 1,623.708 1,534.021    -4.575   176.816                0.085  94.262   \n",
       "2 2025 1,679.698 1,589.206    -8.218   186.610                0.086  98.709   \n",
       "3 2026 1,721.154 1,630.443   -11.861   177.779                0.086 102.572   \n",
       "4 2027 1,760.615 1,667.588   -11.861   177.633                0.086 104.888   \n",
       "\n",
       "           GFN      OB      PB      SB     SF     SPB  ageing_component  \\\n",
       "t y                                                                       \n",
       "0 2023     NaN     NaN -17.193     NaN 17.800     NaN             0.000   \n",
       "1 2024 271.078 -42.968  -4.085 -51.972  6.940 -13.090             0.000   \n",
       "2 2025 285.319 -40.870   0.313 -46.477 15.120  -5.295             0.000   \n",
       "3 2026 280.351 -41.456   3.142 -41.469  0.000   3.129             0.000   \n",
       "4 2027 282.520 -39.462   8.159 -35.487  0.000  12.134             0.000   \n",
       "\n",
       "        ageing_cost  alpha  beta  cyclical_component       d  \\\n",
       "t y                                                            \n",
       "0 2023       24.315  0.057 0.000               0.455 107.652   \n",
       "1 2024       24.390  0.058 0.115               0.584 105.229   \n",
       "2 2025       24.443  0.059 0.117               0.350 104.512   \n",
       "3 2026       24.527  0.060 0.109               0.001 103.558   \n",
       "4 2027       24.641  0.060 0.107              -0.232 102.410   \n",
       "\n",
       "        deficit_resilience_steps  deficit_resilience_target  edp_steps  \\\n",
       "t y                                                                      \n",
       "0 2023                       NaN                     -1.500        NaN   \n",
       "1 2024                       NaN                     -1.500        NaN   \n",
       "2 2025                       NaN                     -1.500        NaN   \n",
       "3 2026                       NaN                     -1.500        NaN   \n",
       "4 2027                       NaN                     -1.500        NaN   \n",
       "\n",
       "        edp_target  exr  exr_eur  exr_usd  fiscal_multiplier_effect  i_lt  \\\n",
       "t y                                                                         \n",
       "0 2023      -3.000  NaN    1.000    1.081                     0.000 3.476   \n",
       "1 2024      -3.000  NaN    1.000    1.071                     0.000 3.240   \n",
       "2 2025      -3.000  NaN    1.000    1.066                     0.309 3.369   \n",
       "3 2026      -3.000  NaN    1.000    1.066                     0.389 3.497   \n",
       "4 2027      -3.000  NaN    1.000    1.066                     0.389 3.626   \n",
       "\n",
       "        i_st   iir  iir_bl  iir_lt  interest  interest_lt  interest_ratio  \\\n",
       "t y                                                                         \n",
       "0 2023 3.263 2.393     NaN   2.257       NaN          NaN             NaN   \n",
       "1 2024 3.463 2.393     NaN   2.423    38.882       35.951           2.522   \n",
       "2 2025 3.446 2.393     NaN   2.472    41.183       37.919           2.568   \n",
       "3 2026 3.429 2.641     NaN   2.592    44.598       41.197           2.690   \n",
       "4 2027 3.412 2.747     NaN   2.705    47.621       44.103           2.777   \n",
       "\n",
       "        interest_st  net_expenditure_growth    ng  ng_bl      ngdp   ngdp_bl  \\\n",
       "t y                                                                            \n",
       "0 2023          NaN                     NaN 8.579  8.579 1,461.889 1,461.889   \n",
       "1 2024        2.931                   3.695 5.467  5.467 1,541.815 1,541.815   \n",
       "2 2025        3.264                   2.839 4.015  4.335 1,603.725 1,608.658   \n",
       "3 2026        3.401                   2.221 3.398  3.694 1,658.214 1,668.087   \n",
       "4 2027        3.517                   2.243 3.419  3.515 1,714.906 1,726.726   \n",
       "\n",
       "           ob  output_gap  output_gap_bl     pb  pension_revenue    pi  \\\n",
       "t y                                                                      \n",
       "0 2023 -3.636       0.762          0.762 -1.176            1.126 5.928   \n",
       "1 2024 -2.787       0.978          0.978 -0.265            1.133 3.253   \n",
       "2 2025 -2.548       0.586          0.895  0.019            1.138 2.342   \n",
       "3 2026 -2.500       0.001          0.597  0.189            1.146 2.343   \n",
       "4 2027 -2.301      -0.388          0.298  0.476            1.155 2.343   \n",
       "\n",
       "        post_spb_steps  property_income  property_income_component  repayment  \\\n",
       "t y                                                                             \n",
       "0 2023           0.000            0.000                      0.000        NaN   \n",
       "1 2024           0.000            0.000                      0.000    221.170   \n",
       "2 2025           0.000            0.000                      0.000    229.329   \n",
       "3 2026           0.000            0.000                      0.000    238.895   \n",
       "4 2027           0.000            0.000                      0.000    243.059   \n",
       "\n",
       "        repayment_lt  repayment_lt_bond  repayment_lt_esm  repayment_st    rg  \\\n",
       "t y                                                                             \n",
       "0 2023           NaN              0.000             4.575           NaN 2.503   \n",
       "1 2024       126.772              0.000             4.575        89.822 2.145   \n",
       "2 2025       131.425              0.000             3.643        94.262 1.635   \n",
       "3 2026       136.543              0.000             3.643        98.709 1.031   \n",
       "4 2027       140.487              0.000             0.000       102.572 1.051   \n",
       "\n",
       "        rg_bl  rg_pot      rgdp   rgdp_bl  rgdp_pot     sb    sf    spb  \\\n",
       "t y                                                                       \n",
       "0 2023  2.503   1.882 1,222.811 1,222.811 1,213.565 -4.091 1.218 -1.631   \n",
       "1 2024  2.145   1.926 1,249.037 1,249.037 1,236.936 -3.371 0.450 -0.849   \n",
       "2 2025  1.947   2.031 1,269.456 1,273.361 1,262.065 -2.898 0.943 -0.330   \n",
       "3 2026  1.321   1.621 1,282.540 1,290.177 1,282.524 -2.501 0.000  0.189   \n",
       "4 2027  1.145   1.446 1,296.019 1,304.952 1,301.070 -2.069 0.000  0.708   \n",
       "\n",
       "        spb_bca  spb_bca_adjustment  spb_bl  spb_steps  spb_steps_baseline  \n",
       "t y                                                                         \n",
       "0 2023   -1.631                 NaN  -1.631      0.519               0.519  \n",
       "1 2024   -0.849               0.782  -0.849      0.519               0.519  \n",
       "2 2025   -0.330               0.519  -0.743      0.519               0.519  \n",
       "3 2026    0.189               0.519  -0.743      0.519               0.519  \n",
       "4 2027    0.708               0.519  -0.743      0.519               0.519  "
      ]
     },
     "execution_count": 42,
     "metadata": {},
     "output_type": "execute_result"
    }
   ],
   "source": [
    "esp_sdsa_7.df_dict['binding'].head()"
   ]
  },
  {
   "cell_type": "code",
   "execution_count": 43,
   "metadata": {},
   "outputs": [
    {
     "data": {
      "text/plain": [
       "{'spb_steps': array([0.51885714, 0.51885714, 0.51885714, 0.51885714, 0.51885714,\n",
       "        0.51885714, 0.51885714]),\n",
       " 'spb_target': 2.7829999999998005,\n",
       " 'criterion': 'adverse_r_g',\n",
       " 'edp_binding': False,\n",
       " 'edp_steps': array([nan, nan, nan, nan, nan, nan, nan]),\n",
       " 'debt_safeguard_binding': False,\n",
       " 'deficit_resilience_binding': False,\n",
       " 'deficit_resilience_steps': array([nan, nan, nan, nan, nan, nan, nan]),\n",
       " 'net_expenditure_growth': array([2.83913412, 2.22138736, 2.2425879 , 2.34427088, 2.34636604,\n",
       "        2.26406618, 2.14701774])}"
      ]
     },
     "execution_count": 43,
     "metadata": {},
     "output_type": "execute_result"
    }
   ],
   "source": [
    "esp_sdsa_7.binding_parameter_dict"
   ]
  },
  {
   "cell_type": "markdown",
   "metadata": {},
   "source": [
    "### Running the DSA for all countries\n",
    "The functions in the functions folder contian preset loops that run the DSA for all countries, save and plot results. Simply run the \"main.ipynb\"."
   ]
  },
  {
   "cell_type": "markdown",
   "metadata": {},
   "source": [
    "### Additional functionality\n",
    "The model offers methods and parameters for addiitonal analysis and the exploration of methodological assumptions"
   ]
  },
  {
   "cell_type": "markdown",
   "metadata": {},
   "source": [
    "The \"find_deficit_prob\" method builds on the stochastic model to calculate the probabilites of an excessive deficit in each year of the adjustment period. \\\n",
    "We can either call it directly by specifying an adjustment path or call it after we have optimized the path as above."
   ]
  },
  {
   "cell_type": "code",
   "execution_count": 44,
   "metadata": {},
   "outputs": [
    {
     "data": {
      "text/plain": [
       "Text(0.5, 1.0, 'Spain: Probability of deficit during 7-year adjustment')"
      ]
     },
     "execution_count": 44,
     "metadata": {},
     "output_type": "execute_result"
    },
    {
     "data": {
      "image/png": "[encoded data removed]",
      "text/plain": [
       "<Figure size 640x480 with 1 Axes>"
      ]
     },
     "metadata": {},
     "output_type": "display_data"
    }
   ],
   "source": [
    "prob_deficit = esp_sdsa_7.find_deficit_prob()\n",
    "plt.bar(np.arange(2025, 2032), prob_deficit)\n",
    "plt.title('Spain: Probability of deficit during 7-year adjustment')"
   ]
  },
  {
   "cell_type": "markdown",
   "metadata": {},
   "source": [
    "The function \"run_multiple_periods\" from the functions package can be used to to simulate consecutive adjustment periods and gain insight into which criteria would be bindin in future applications of the fiscal rules. It initial optimization for a given adjustment period, saves the net expenditure path, and optimizes the next period, taking the first period's path as given."
   ]
  },
  {
   "cell_type": "code",
   "execution_count": 45,
   "metadata": {},
   "outputs": [
    {
     "name": "stdout",
     "output_type": "stream",
     "text": [
      "                  Model Params                             SPB Targets       \n",
      "================================================     ========================\n",
      "country                                      FRA     main_adjustment    0.004\n",
      "adjustment period                              7     lower_spb          0.480\n",
      "adjustment start                            2025     financial_stress   0.621\n",
      "shock frequency                        quarterly     adverse_r_g        0.813\n",
      "stochastic period                      2032-2037     deficit_reduction  0.987\n",
      "estimation                               normal      stochastic         0.576\n",
      "bond level data                            False     edp                0.883\n",
      "safeguards         EDP, debt, deficit_resilience     binding            0.883\n",
      "================================================     ========================\n",
      "\n",
      "                                Binding Params                               \n",
      "=============================================================================\n",
      "spb_steps                     0.55 , 0.55 , 0.55 , 0.661, 0.646, 0.628, 0.265\n",
      "spb_target                                                              0.883\n",
      "criterion                                                   deficit_reduction\n",
      "edp_binding                                                              True\n",
      "edp_steps                     0.55 , 0.55 , 0.55 , 0.661, 0.646, 0.628,   nan\n",
      "debt_safeguard_binding                                                  False\n",
      "deficit_resilience_binding                                              False\n",
      "deficit_resilience_steps                    nan, nan, nan, nan, nan, nan, nan\n",
      "net_expenditure_growth        2.249, 1.387, 1.347, 1.072, 1.195, 1.363, 2.451\n",
      "=============================================================================\n",
      "\n",
      "                  Model Params                              SPB Targets        \n",
      "================================================     ==========================\n",
      "country                                      FRA     main_adjustment     -0.080\n",
      "adjustment period                             11     lower_spb            0.418\n",
      "adjustment start                            2025     financial_stress     0.410\n",
      "shock frequency                        quarterly     adverse_r_g          0.840\n",
      "stochastic period                      2036-2041     deficit_reduction    0.700\n",
      "estimation                               normal      stochastic           0.474\n",
      "bond level data                            False     edp                  0.840\n",
      "safeguards         EDP, debt, deficit_resilience     deficit_resilience   1.886\n",
      "                                                     binding              1.886\n",
      "================================================     ==========================\n",
      "\n",
      "                                 Binding Params                                \n",
      "===============================================================================\n",
      "spb_target                                                                1.886\n",
      "criterion                                                           adverse_r_g\n",
      "edp_binding                                                                True\n",
      "debt_safeguard_binding                                                    False\n",
      "deficit_resilience_binding                                                 True\n",
      "spb_steps (1-7)                  0.55 , 0.55 , 0.55 , 0.662, 0.647, 0.629, 0.265\n",
      "spb_steps (8-11)                                     0.25 , 0.25 , 0.251, 0.251\n",
      "edp_steps (1-7)                  0.55 , 0.55 , 0.55 , 0.662, 0.647, 0.629,   nan\n",
      "edp_steps (8-11)                                             nan, nan, nan, nan\n",
      "deficit_resilience_steps (1-7)                nan, nan, nan, nan, nan, nan, nan\n",
      "deficit_resilience_steps (8-11)                      0.25 , 0.25 , 0.251, 0.251\n",
      "net_expenditure_growth (1-7)     2.249, 1.387, 1.347, 1.069, 1.193, 1.361, 2.453\n",
      "net_expenditure_growth (8-11)                        2.562, 2.666, 2.719, 2.768\n",
      "===============================================================================\n",
      "\n",
      "                  Model Params                              SPB Targets       \n",
      "================================================     =========================\n",
      "country                                      FRA     main_adjustment     0.208\n",
      "adjustment period                             15     lower_spb           0.700\n",
      "adjustment start                            2025     financial_stress    0.280\n",
      "shock frequency                        quarterly     adverse_r_g         1.045\n",
      "stochastic period                      2040-2045     deficit_reduction   0.569\n",
      "estimation                               normal      stochastic          0.426\n",
      "bond level data                            False     edp                 1.045\n",
      "safeguards         EDP, debt, deficit_resilience     deficit_resilience  1.954\n",
      "                                                     binding             1.954\n",
      "================================================     =========================\n",
      "\n",
      "                                Binding Params                                \n",
      "==============================================================================\n",
      "spb_target                                                               1.954\n",
      "criterion                                                          adverse_r_g\n",
      "edp_binding                                                               True\n",
      "debt_safeguard_binding                                                   False\n",
      "deficit_resilience_binding                                                True\n",
      "spb_steps (1-7)                   0.55 , 0.55 , 0.55 , 0.662, 0.647, 0.629, 0.265\n",
      "spb_steps (8-14)                   0.25 ,  0.251,  0.25 ,  0.25 ,  0.107, -0.002, -0.013\n",
      "spb_steps (15-15)                                                       -0.025\n",
      "edp_steps (1-7)                   0.55 , 0.55 , 0.55 , 0.662, 0.647, 0.629,   nan\n",
      "edp_steps (8-14)                             nan, nan, nan, nan, nan, nan, nan\n",
      "edp_steps (15-15)                                                          nan\n",
      "deficit_resilience_steps (1-7)               nan, nan, nan, nan, nan, nan, nan\n",
      "deficit_resilience_steps (8-14)      nan,  0.251,    nan,    nan,  0.107, -0.002, -0.013\n",
      "deficit_resilience_steps (15-15)                                        -0.025\n",
      "net_expenditure_growth (1-7)      2.249, 1.387, 1.347, 1.069, 1.193, 1.361, 2.453\n",
      "net_expenditure_growth (8-14)     2.563, 2.664, 2.72 , 2.769, 3.204, 3.528, 3.613\n",
      "net_expenditure_growth (15-15)                                           3.741\n",
      "==============================================================================\n",
      "\n"
     ]
    },
    {
     "data": {
      "image/png": "[encoded data removed]",
      "text/plain": [
       "<Figure size 640x480 with 2 Axes>"
      ]
     },
     "metadata": {},
     "output_type": "display_data"
    },
    {
     "data": {
      "text/html": [
       "<div>\n",
       "<style scoped>\n",
       "    .dataframe tbody tr th:only-of-type {\n",
       "        vertical-align: middle;\n",
       "    }\n",
       "\n",
       "    .dataframe tbody tr th {\n",
       "        vertical-align: top;\n",
       "    }\n",
       "\n",
       "    .dataframe thead th {\n",
       "        text-align: right;\n",
       "    }\n",
       "</style>\n",
       "<table border=\"1\" class=\"dataframe\">\n",
       "  <thead>\n",
       "    <tr style=\"text-align: right;\">\n",
       "      <th></th>\n",
       "      <th>main_adjustment</th>\n",
       "      <th>lower_spb</th>\n",
       "      <th>financial_stress</th>\n",
       "      <th>adverse_r_g</th>\n",
       "      <th>deficit_reduction</th>\n",
       "      <th>stochastic</th>\n",
       "      <th>edp</th>\n",
       "      <th>binding</th>\n",
       "      <th>deficit_resilience</th>\n",
       "    </tr>\n",
       "  </thead>\n",
       "  <tbody>\n",
       "    <tr>\n",
       "      <th>adjustment_period_1</th>\n",
       "      <td>0.004</td>\n",
       "      <td>0.480</td>\n",
       "      <td>0.621</td>\n",
       "      <td>0.813</td>\n",
       "      <td>0.987</td>\n",
       "      <td>0.576</td>\n",
       "      <td>0.883</td>\n",
       "      <td>0.883</td>\n",
       "      <td>NaN</td>\n",
       "    </tr>\n",
       "    <tr>\n",
       "      <th>adjustment_period_2</th>\n",
       "      <td>-0.080</td>\n",
       "      <td>0.418</td>\n",
       "      <td>0.410</td>\n",
       "      <td>0.840</td>\n",
       "      <td>0.700</td>\n",
       "      <td>0.474</td>\n",
       "      <td>0.840</td>\n",
       "      <td>1.886</td>\n",
       "      <td>1.886</td>\n",
       "    </tr>\n",
       "    <tr>\n",
       "      <th>adjustment_period_3</th>\n",
       "      <td>0.208</td>\n",
       "      <td>0.700</td>\n",
       "      <td>0.280</td>\n",
       "      <td>1.045</td>\n",
       "      <td>0.569</td>\n",
       "      <td>0.426</td>\n",
       "      <td>1.045</td>\n",
       "      <td>1.954</td>\n",
       "      <td>1.954</td>\n",
       "    </tr>\n",
       "  </tbody>\n",
       "</table>\n",
       "</div>"
      ],
      "text/plain": [
       "                     main_adjustment  lower_spb  financial_stress  \\\n",
       "adjustment_period_1            0.004      0.480             0.621   \n",
       "adjustment_period_2           -0.080      0.418             0.410   \n",
       "adjustment_period_3            0.208      0.700             0.280   \n",
       "\n",
       "                     adverse_r_g  deficit_reduction  stochastic   edp  \\\n",
       "adjustment_period_1        0.813              0.987       0.576 0.883   \n",
       "adjustment_period_2        0.840              0.700       0.474 0.840   \n",
       "adjustment_period_3        1.045              0.569       0.426 1.045   \n",
       "\n",
       "                     binding  deficit_resilience  \n",
       "adjustment_period_1    0.883                 NaN  \n",
       "adjustment_period_2    1.886               1.886  \n",
       "adjustment_period_3    1.954               1.954  "
      ]
     },
     "execution_count": 45,
     "metadata": {},
     "output_type": "execute_result"
    }
   ],
   "source": [
    "run_consecutive_dsa(\n",
    "        country = 'FRA',\n",
    "        start_year=2024, \n",
    "        initial_adjustment_period=7, \n",
    "        consecutive_adjustment_period=4, \n",
    "        number_of_adjustment_periods=3, \n",
    "        print_results=True,\n",
    "        plot_results=True)"
   ]
  },
  {
   "cell_type": "markdown",
   "metadata": {},
   "source": [
    "Finally, the StochasticDsaModel Class offers several additional parameters choices that differ from the assumptions of the European Commission:\n",
    "- The period over which ageing costs affect SPB following the end of the adjustment period\n",
    "- The sample cutoff for stochastic shocks\n",
    "- The frequency of the shock data\n",
    "- The start and the length of stochastic projections (allowing for example to consider shocks during the adjustment period to all variables except for the primary balance)\n",
    "- The estimation methodology for stochastic shocks (either via joint-normal distribution or a VAR using either a bootstrap or a cholesky decomposition)\n",
    "- The size of the fiscal multiplier\n",
    "- The use of bond level data for the term structure of existing long-term debt \n",
    "- The use of a policy counterfactual which increases growth by x percent at a cost of y percent of GDP over z years from the start of the adjustment period"
   ]
  },
  {
   "cell_type": "code",
   "execution_count": 46,
   "metadata": {},
   "outputs": [],
   "source": [
    "deu_sdsa_7 = StochasticDsaModel(\n",
    "                country='DEU', # ISO code of country\n",
    "                start_year=2023, # start year of projection, first year is baseline value\n",
    "                end_year=2070, # end year of projection\n",
    "                adjustment_period=4, # number of years for linear spb_bca adjustment\n",
    "                adjustment_start_year=2025, # start year of linear spb_bca adjustment\n",
    "                ageing_cost_period=10, # number of years for ageing cost adjustment\n",
    "                shock_sample_start=2000, # start year of shock sample\n",
    "                stochastic_start_year=None, # start year of stochastic projection\n",
    "                stochastic_period=5, # number of years for stochastic projection\n",
    "                shock_frequency='quarterly', # frequency of shocks, 'quarterly' or 'annual'\n",
    "                estimation='normal', # estimation method for covariance matrix, 'normal' or 'var'\n",
    "                estimation_method='bootstrap', # method for drawing shocks if estimation is 'var', 'cholesky' or 'bootstrap'\n",
    "                fiscal_multiplier=0.75, # size of the fiscal multiplier\n",
    "                fiscal_multiplier_persistence=3, # years it takes for output gap to close/ number of periods fiscal mutliplier affects growth\n",
    "                fiscal_multiplier_type='com', # commission or bruegel, bruegel version formalizes persistence effect\n",
    "                bond_data=False, # Use bond level data for repayment profile\n",
    "                )"
   ]
  }
 ],
 "metadata": {
  "kernelspec": {
   "display_name": "base",
   "language": "python",
   "name": "python3"
  },
  "language_info": {
   "codemirror_mode": {
    "name": "ipython",
    "version": 3
   },
   "file_extension": ".py",
   "mimetype": "text/x-python",
   "name": "python",
   "nbconvert_exporter": "python",
   "pygments_lexer": "ipython3",
   "version": "3.9.16"
  },
  "orig_nbformat": 4
 },
 "nbformat": 4,
 "nbformat_minor": 2
}
